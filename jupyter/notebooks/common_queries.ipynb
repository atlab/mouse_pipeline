{
 "cells": [
  {
   "cell_type": "markdown",
   "metadata": {},
   "source": [
    "# Common queries\n",
    "\n",
    "Here we will collect useful queries to help new users learn by example."
   ]
  },
  {
   "cell_type": "code",
   "execution_count": 12,
   "metadata": {
    "collapsed": false
   },
   "outputs": [],
   "source": [
    "import datajoint as dj\n",
    "from pipeline import experiment, vis, preprocess, tuning"
   ]
  },
  {
   "cell_type": "markdown",
   "metadata": {},
   "source": [
    "## Keys for scans with a specific type of stimulus"
   ]
  },
  {
   "cell_type": "code",
   "execution_count": 13,
   "metadata": {
    "collapsed": false
   },
   "outputs": [
    {
     "data": {
      "text/plain": [
       "127"
      ]
     },
     "execution_count": 13,
     "metadata": {},
     "output_type": "execute_result"
    }
   ],
   "source": [
    "my_scans = preprocess.Sync() & vis.Monet()  # this is only a relation, no data retrieve yet\n",
    "len(my_scans)"
   ]
  },
  {
   "cell_type": "markdown",
   "metadata": {},
   "source": [
    "Get the list of primary key values for `my_scans`."
   ]
  },
  {
   "cell_type": "code",
   "execution_count": 14,
   "metadata": {
    "collapsed": false
   },
   "outputs": [
    {
     "data": {
      "text/plain": [
       "OrderedDict([('animal_id', 7816), ('session', 1), ('scan_idx', 34)])"
      ]
     },
     "execution_count": 14,
     "metadata": {},
     "output_type": "execute_result"
    }
   ],
   "source": [
    "keys = list(my_scans.fetch.keys())\n",
    "key = keys[10]  # pick an arbitrary scan from the list\n",
    "key"
   ]
  },
  {
   "cell_type": "markdown",
   "metadata": {},
   "source": [
    "You may now use any one of these keys to get relevant information from other tables."
   ]
  },
  {
   "cell_type": "code",
   "execution_count": 15,
   "metadata": {
    "collapsed": false
   },
   "outputs": [
    {
     "data": {
      "text/html": [
       " \n",
       "            <div style=\"max-height:1000px;max-width:1500px;overflow:auto;\">\n",
       "            <table border=\"1\" class=\"dataframe\">\n",
       "                <thead> <tr style=\"text-align: right;\"> <th> <em>animal_id</em></th><th><em>session</em></th><th><em>scan_idx</em></th><th>lens</th><th>brain_area</th><th>laser_wavelength</th><th>laser_power</th><th>filename</th><th>depth</th><th>scan_notes</th><th>site_number</th><th>software</th><th>version</th><th>scan_ts</th><th>rig</th><th>session_date</th><th>username</th><th>anesthesia</th><th>pmt_filter_set</th><th>scan_path</th><th>behavior_path</th><th>craniotomy_notes</th><th>session_notes</th><th>session_ts </th> </tr> </thead>\n",
       "                <tbody> <tr> <td>7816</td>\n",
       "<td>1</td>\n",
       "<td>34</td>\n",
       "<td>25x</td>\n",
       "<td>V1</td>\n",
       "<td>920.0</td>\n",
       "<td>60.0</td>\n",
       "<td>m7816A_00034</td>\n",
       "<td>256</td>\n",
       "<td></td>\n",
       "<td>9</td>\n",
       "<td>scanimage</td>\n",
       "<td>5.1</td>\n",
       "<td>2016-02-11 11:38:12</td>\n",
       "<td>2P3</td>\n",
       "<td>2016-02-10</td>\n",
       "<td>jake</td>\n",
       "<td>awake</td>\n",
       "<td>2P3 red-green A</td>\n",
       "<td>/scratch01/Two-Photon/Jake/160210</td>\n",
       "<td>/scratch01/WholeCell/jake/160210</td>\n",
       "<td></td>\n",
       "<td>;;Emx1 Cre</td>\n",
       "<td>2016-02-11 10:51:26</td> </tr> </tbody>\n",
       "            </table>\n",
       "            <p>1 tuples</p></div>\n",
       "            "
      ],
      "text/plain": [
       "*animal_id    *session    *scan_idx    lens     brain_area     laser_waveleng laser_power    filename       depth     scan_notes     site_number    software      version     scan_ts        rig     session_date   username     anesthesia     pmt_filter_set scan_path      behavior_path  craniotomy_not session_notes  session_ts    \n",
       "+-----------+ +---------+ +----------+ +------+ +------------+ +------------+ +------------+ +------------+ +-------+ +------------+ +------------+ +-----------+ +---------+ +------------+ +-----+ +------------+ +----------+ +------------+ +------------+ +------------+ +------------+ +------------+ +------------+ +------------+\n",
       "7816          1           34           25x      V1             920.0          60.0           m7816A_00034   256                      9              scanimage     5.1         2016-02-11 11: 2P3     2016-02-10     jake         awake          2P3 red-green  /scratch01/Two /scratch01/Who                ;;Emx1 Cre     2016-02-11 10:\n",
       " (1 tuples)"
      ]
     },
     "execution_count": 15,
     "metadata": {},
     "output_type": "execute_result"
    }
   ],
   "source": [
    "scan_info = experiment.Scan()*experiment.Session() & key\n",
    "scan_info   # still only a query"
   ]
  },
  {
   "cell_type": "code",
   "execution_count": 16,
   "metadata": {
    "collapsed": false
   },
   "outputs": [
    {
     "data": {
      "text/plain": [
       "OrderedDict([('animal_id', 7816),\n",
       "             ('session', 1),\n",
       "             ('scan_idx', 34),\n",
       "             ('lens', '25x'),\n",
       "             ('brain_area', 'V1'),\n",
       "             ('laser_wavelength', 920.0),\n",
       "             ('laser_power', 60.0),\n",
       "             ('filename', 'm7816A_00034'),\n",
       "             ('depth', 256),\n",
       "             ('scan_notes', ''),\n",
       "             ('site_number', 9),\n",
       "             ('software', 'scanimage'),\n",
       "             ('version', '5.1'),\n",
       "             ('scan_ts', datetime.datetime(2016, 2, 11, 11, 38, 12)),\n",
       "             ('rig', '2P3'),\n",
       "             ('session_date', datetime.date(2016, 2, 10)),\n",
       "             ('username', 'jake'),\n",
       "             ('anesthesia', 'awake'),\n",
       "             ('pmt_filter_set', '2P3 red-green A'),\n",
       "             ('scan_path', '/scratch01/Two-Photon/Jake/160210'),\n",
       "             ('behavior_path', '/scratch01/WholeCell/jake/160210'),\n",
       "             ('craniotomy_notes', ''),\n",
       "             ('session_notes', ';;Emx1 Cre'),\n",
       "             ('session_ts', datetime.datetime(2016, 2, 11, 10, 51, 26))])"
      ]
     },
     "execution_count": 16,
     "metadata": {},
     "output_type": "execute_result"
    }
   ],
   "source": [
    "scan_info.fetch1()   #  now we get it in python"
   ]
  },
  {
   "cell_type": "markdown",
   "metadata": {},
   "source": [
    "## Get the stimulus info for a given scan"
   ]
  },
  {
   "cell_type": "markdown",
   "metadata": {},
   "source": [
    "Let's assume you already have a key identifying a unique scan (see above). It must provide valid `animal_id`, `session`, and `scan_idx`.  You do not need to know what stimulus was played yet."
   ]
  },
  {
   "cell_type": "code",
   "execution_count": 17,
   "metadata": {
    "collapsed": false
   },
   "outputs": [
    {
     "data": {
      "text/plain": [
       "OrderedDict([('animal_id', 7816), ('session', 1), ('scan_idx', 34)])"
      ]
     },
     "execution_count": 17,
     "metadata": {},
     "output_type": "execute_result"
    }
   ],
   "source": [
    "key"
   ]
  },
  {
   "cell_type": "markdown",
   "metadata": {},
   "source": [
    "The key identifies the scan but not the stimulus information, so you need to join the linking table `preprocess.Sync` and to limit trials to those within the scan.  The following query extracts all the relevant generic information about stimulus trials for the given scan."
   ]
  },
  {
   "cell_type": "code",
   "execution_count": 18,
   "metadata": {
    "collapsed": false
   },
   "outputs": [],
   "source": [
    "trials = preprocess.Sync()*vis.Trial()*vis.Condition() & 'trial_idx between first_trial and last_trial' & key  "
   ]
  },
  {
   "cell_type": "markdown",
   "metadata": {},
   "source": [
    "You can now join this relation with its specific type of stimulus to get the stimulus-specific information.  Beware that within a single scan multiple types of stimuli may be played. For those stimulus conditions that have a lookup, join the lookup too."
   ]
  },
  {
   "cell_type": "code",
   "execution_count": 19,
   "metadata": {
    "collapsed": true
   },
   "outputs": [],
   "source": [
    "monet_trials = trials*vis.Monet()*vis.MonetLookup()\n",
    "movie_trials = trials*vis.Movie()*vis.MovieClipCond()\n",
    "trippy_trials = trials*vis.Trippy()   # no lookup"
   ]
  },
  {
   "cell_type": "markdown",
   "metadata": {},
   "source": [
    "## Get the fluorophores used in a given scan"
   ]
  },
  {
   "cell_type": "markdown",
   "metadata": {},
   "source": [
    "Say you already have the key of a scan or a session."
   ]
  },
  {
   "cell_type": "code",
   "execution_count": 20,
   "metadata": {
    "collapsed": false
   },
   "outputs": [],
   "source": [
    "key = dict(animal_id=8158, session=1)"
   ]
  },
  {
   "cell_type": "code",
   "execution_count": 21,
   "metadata": {
    "collapsed": false
   },
   "outputs": [
    {
     "data": {
      "text/html": [
       " <h3>Fluorophores expressed in prep for the imaging session</h3>\n",
       "            <div style=\"max-height:1000px;max-width:1500px;overflow:auto;\">\n",
       "            <table border=\"1\" class=\"dataframe\">\n",
       "                <thead> <tr style=\"text-align: right;\"> <th> <em>animal_id</em></th><th><em>session</em></th><th><em>fluorophore</em></th><th>notes </th> </tr> </thead>\n",
       "                <tbody> <tr> <td>8158</td>\n",
       "<td>1</td>\n",
       "<td>Twitch2B</td>\n",
       "<td></td> </tr> </tbody>\n",
       "            </table>\n",
       "            <p>1 tuples</p></div>\n",
       "            "
      ],
      "text/plain": [
       "*animal_id    *session    *fluorophore   notes    \n",
       "+-----------+ +---------+ +------------+ +-------+\n",
       "8158          1           Twitch2B                \n",
       " (1 tuples)"
      ]
     },
     "execution_count": 21,
     "metadata": {},
     "output_type": "execute_result"
    }
   ],
   "source": [
    "fluorophores = experiment.Session.Fluorophore() & key\n",
    "fluorophores"
   ]
  },
  {
   "cell_type": "markdown",
   "metadata": {},
   "source": [
    "## Get synced scans with a given fluorophore"
   ]
  },
  {
   "cell_type": "code",
   "execution_count": 23,
   "metadata": {
    "collapsed": false
   },
   "outputs": [],
   "source": [
    "twitchScans = preprocess.Sync() & (experiment.Session.Fluorophore() & dict(fluorophore=\"Twitch2B\"))"
   ]
  },
  {
   "cell_type": "code",
   "execution_count": null,
   "metadata": {
    "collapsed": true
   },
   "outputs": [],
   "source": []
  }
 ],
 "metadata": {
  "kernelspec": {
   "display_name": "Python 3",
   "language": "python",
   "name": "python3"
  },
  "language_info": {
   "codemirror_mode": {
    "name": "ipython",
    "version": 3
   },
   "file_extension": ".py",
   "mimetype": "text/x-python",
   "name": "python",
   "nbconvert_exporter": "python",
   "pygments_lexer": "ipython3",
   "version": "3.5.0"
  }
 },
 "nbformat": 4,
 "nbformat_minor": 0
}
