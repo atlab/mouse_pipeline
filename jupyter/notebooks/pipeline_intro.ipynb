{
 "cells": [
  {
   "cell_type": "markdown",
   "metadata": {},
   "source": [
    "## Welcome to the Tolias Lab data pipeline\n",
    "\n",
    "### First steps\n",
    "\n",
    "1. obtain an account `datajoint.ninai.org` with appropriate privileges.\n",
    "2. install datajoint from https://github.com/datajoint/datajoint-python.  If you install earlier, pull the latest version.\n",
    "3. when you import datajoint for the first time, you will be prompted to edit the connection credentials in the config file.\n",
    "4. clone https://github.com/cajal/pipeline.  If you cloned previously, be sure to get the latest update.\n",
    "\n",
    "### Change your password\n",
    "You can change your password on the server using the `dj.set_password()` command:"
   ]
  },
  {
   "cell_type": "code",
   "execution_count": 1,
   "metadata": {
    "collapsed": false
   },
   "outputs": [
    {
     "name": "stdout",
     "output_type": "stream",
     "text": [
      "DataJoint 0.3.5 (July 21, 2016)\n",
      "Loading local settings from dj_local_conf.json\n",
      "Connecting dimitri@datajoint.ninai.org:3306\n"
     ]
    }
   ],
   "source": [
    "import datajoint as dj"
   ]
  },
  {
   "cell_type": "code",
   "execution_count": 2,
   "metadata": {
    "collapsed": false
   },
   "outputs": [
    {
     "name": "stdout",
     "output_type": "stream",
     "text": [
      "Do you wish to change the password? [yes, no]: no\n",
      "Password left unchanged\n"
     ]
    }
   ],
   "source": [
    "dj.set_password('your-new-fancy-password')"
   ]
  },
  {
   "cell_type": "markdown",
   "metadata": {},
   "source": [
    "### Update the config file with your new password for the next session.\n",
    "---\n",
    "\n",
    "Next: [The Big Picture](big_picture.ipynb)"
   ]
  }
 ],
 "metadata": {
  "kernelspec": {
   "display_name": "Python 3",
   "language": "python",
   "name": "python3"
  },
  "language_info": {
   "codemirror_mode": {
    "name": "ipython",
    "version": 3
   },
   "file_extension": ".py",
   "mimetype": "text/x-python",
   "name": "python",
   "nbconvert_exporter": "python",
   "pygments_lexer": "ipython3",
   "version": "3.5.0"
  }
 },
 "nbformat": 4,
 "nbformat_minor": 0
}
