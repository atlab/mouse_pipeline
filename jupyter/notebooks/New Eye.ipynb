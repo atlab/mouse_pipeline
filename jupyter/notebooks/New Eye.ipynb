{
 "cells": [
  {
   "cell_type": "markdown",
   "metadata": {},
   "source": [
    "### Execture cells with SHIFT-ENTER"
   ]
  },
  {
   "cell_type": "markdown",
   "metadata": {},
   "source": [
    "This cell loads the necessary libraries. The logging output of datajoint will disappear in future versions. "
   ]
  },
  {
   "cell_type": "code",
   "execution_count": null,
   "metadata": {
    "collapsed": false
   },
   "outputs": [],
   "source": [
    "%load_ext autoreload\n",
    "%autoreload 2\n",
    "%matplotlib notebook\n",
    "import datajoint as dj\n",
    "from pprint import pprint \n",
    "dj.config['loglevel'] = 'INFO'\n",
    "from pipeline import rf, pre, utils, trk\n",
    "import numpy as np"
   ]
  },
  {
   "cell_type": "markdown",
   "metadata": {},
   "source": [
    "### Look at possible keys (can be skipped)"
   ]
  },
  {
   "cell_type": "markdown",
   "metadata": {},
   "source": [
    "This cell can be used to find the key that is to be populated. "
   ]
  },
  {
   "cell_type": "code",
   "execution_count": null,
   "metadata": {
    "collapsed": false
   },
   "outputs": [],
   "source": [
    "rf.Eye().unpopulated()"
   ]
  },
  {
   "cell_type": "markdown",
   "metadata": {},
   "source": [
    "### Set the values of key to the desired session "
   ]
  },
  {
   "cell_type": "markdown",
   "metadata": {},
   "source": [
    "Change the values of the dictionary to target the desired session and scan. `rf.Eye().new_eye(key)` will load the time stamps and a few frames to select the ROI."
   ]
  },
  {
   "cell_type": "code",
   "execution_count": null,
   "metadata": {
    "collapsed": false
   },
   "outputs": [],
   "source": [
    "key = dict(animal_id=2054, session=1, scan_idx=2)\n",
    "eye_time, frames = rf.Eye().new_eye(key)"
   ]
  },
  {
   "cell_type": "markdown",
   "metadata": {},
   "source": [
    "### Execute next cell and draw a rectangle around ROI"
   ]
  },
  {
   "cell_type": "markdown",
   "metadata": {},
   "source": [
    "This cell selects the region of interest. Draw a rectangle around the entire eye. When done simply execute the next cell below. "
   ]
  },
  {
   "cell_type": "code",
   "execution_count": null,
   "metadata": {
    "collapsed": false
   },
   "outputs": [],
   "source": [
    "rg = utils.ROIGrabber(frames.mean(axis=2))"
   ]
  },
  {
   "cell_type": "markdown",
   "metadata": {},
   "source": [
    "### Insert results into database"
   ]
  },
  {
   "cell_type": "markdown",
   "metadata": {},
   "source": [
    "This cell inserts the timestamps and the ROI into the database. Normally, a tracking minion should then start to track the video."
   ]
  },
  {
   "cell_type": "code",
   "execution_count": null,
   "metadata": {
    "collapsed": false
   },
   "outputs": [],
   "source": [
    "key['eye_time'] = eye_time\n",
    "key['eye_roi'] = rg.roi\n",
    "pprint(key)\n",
    "rf.Eye().insert1(key)\n"
   ]
  },
  {
   "cell_type": "markdown",
   "metadata": {},
   "source": [
    "# Insert ROI for automatic tracking"
   ]
  },
  {
   "cell_type": "code",
   "execution_count": null,
   "metadata": {
    "collapsed": false
   },
   "outputs": [],
   "source": [
    "rg = utils.ROIGrabber(frames.mean(axis=2))"
   ]
  },
  {
   "cell_type": "code",
   "execution_count": null,
   "metadata": {
    "collapsed": false
   },
   "outputs": [],
   "source": [
    "trk.Roi()"
   ]
  },
  {
   "cell_type": "markdown",
   "metadata": {
    "collapsed": false
   },
   "source": [
    "If you are happy with the ROI, execute the next cell. "
   ]
  },
  {
   "cell_type": "code",
   "execution_count": null,
   "metadata": {
    "collapsed": false
   },
   "outputs": [],
   "source": [
    "roi = rg.roi\n",
    "x_roi_min = min(roi[0], roi[2])\n",
    "x_roi_max = max(roi[0], roi[2])\n",
    "y_roi_min = min(roi[1], roi[3])\n",
    "y_roi_max = max(roi[1], roi[3])\n",
    "key['x_roi_min'] = x_roi_min\n",
    "key['y_roi_min'] = y_roi_min\n",
    "key['x_roi_max'] = x_roi_max\n",
    "key['y_roi_max'] = y_roi_max\n",
    "\n",
    "key.pop('eye_roi')\n",
    "print('Inserting the following tuple', key)\n",
    "trk.Roi().insert1(key)\n"
   ]
  }
 ],
 "metadata": {
  "kernelspec": {
   "display_name": "Python 3",
   "language": "python",
   "name": "python3"
  },
  "language_info": {
   "codemirror_mode": {
    "name": "ipython",
    "version": 3
   },
   "file_extension": ".py",
   "mimetype": "text/x-python",
   "name": "python",
   "nbconvert_exporter": "python",
   "pygments_lexer": "ipython3",
   "version": "3.5.1"
  }
 },
 "nbformat": 4,
 "nbformat_minor": 0
}
